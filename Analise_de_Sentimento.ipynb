{
 "cells": [
  {
   "cell_type": "markdown",
   "metadata": {
    "id": "ORul2o8_QUCi"
   },
   "source": [
    "#**Explorando e vetorizando dados textuais**"
   ]
  },
  {
   "cell_type": "markdown",
   "metadata": {
    "id": "6iUIGTBmQWvC"
   },
   "source": [
    "##**Conhecendo os dados**"
   ]
  },
  {
   "cell_type": "code",
   "execution_count": null,
   "metadata": {
    "id": "QZOcI0Jamq1p"
   },
   "outputs": [],
   "source": [
    "import pandas as pd"
   ]
  },
  {
   "cell_type": "code",
   "execution_count": null,
   "metadata": {
    "id": "mALcSTmXnzpi"
   },
   "outputs": [],
   "source": [
    "df = pd.read_csv('https://raw.githubusercontent.com/alura-cursos/nlp_analise_sentimento/refs/heads/main/Dados/dataset_avaliacoes.csv')"
   ]
  },
  {
   "cell_type": "code",
   "execution_count": null,
   "metadata": {
    "colab": {
     "base_uri": "https://localhost:8080/",
     "height": 206
    },
    "executionInfo": {
     "elapsed": 612,
     "status": "ok",
     "timestamp": 1728404988587,
     "user": {
      "displayName": "Valquiria Alencar",
      "userId": "06101258850801001374"
     },
     "user_tz": 180
    },
    "id": "X55uAnuen9SB",
    "outputId": "b1ca8c1b-9d22-4a81-b2c8-a9daa980b71c"
   },
   "outputs": [],
   "source": [
    "df.head()"
   ]
  },
  {
   "cell_type": "code",
   "execution_count": null,
   "metadata": {
    "colab": {
     "base_uri": "https://localhost:8080/"
    },
    "executionInfo": {
     "elapsed": 9,
     "status": "ok",
     "timestamp": 1728404988587,
     "user": {
      "displayName": "Valquiria Alencar",
      "userId": "06101258850801001374"
     },
     "user_tz": 180
    },
    "id": "WMM4xjF8oAv5",
    "outputId": "a5ca38de-ec7c-499b-9839-e5709565876a"
   },
   "outputs": [],
   "source": [
    "df.shape"
   ]
  },
  {
   "cell_type": "code",
   "execution_count": null,
   "metadata": {
    "colab": {
     "base_uri": "https://localhost:8080/",
     "height": 178
    },
    "executionInfo": {
     "elapsed": 9,
     "status": "ok",
     "timestamp": 1728404988588,
     "user": {
      "displayName": "Valquiria Alencar",
      "userId": "06101258850801001374"
     },
     "user_tz": 180
    },
    "id": "Om8GeHkooQmp",
    "outputId": "5cbd0122-afbb-4872-8831-27c895c5d20c"
   },
   "outputs": [],
   "source": [
    "df.value_counts('sentimento')"
   ]
  },
  {
   "cell_type": "code",
   "execution_count": null,
   "metadata": {
    "colab": {
     "base_uri": "https://localhost:8080/",
     "height": 71
    },
    "executionInfo": {
     "elapsed": 9,
     "status": "ok",
     "timestamp": 1728404988588,
     "user": {
      "displayName": "Valquiria Alencar",
      "userId": "06101258850801001374"
     },
     "user_tz": 180
    },
    "id": "pnjyUJNLoeZB",
    "outputId": "2e792dde-487e-4af9-9f6d-a1c5cce57798"
   },
   "outputs": [],
   "source": [
    "print('positiva \\n')\n",
    "\n",
    "df.avaliacao[0]"
   ]
  },
  {
   "cell_type": "code",
   "execution_count": null,
   "metadata": {
    "colab": {
     "base_uri": "https://localhost:8080/",
     "height": 89
    },
    "executionInfo": {
     "elapsed": 8,
     "status": "ok",
     "timestamp": 1728404988588,
     "user": {
      "displayName": "Valquiria Alencar",
      "userId": "06101258850801001374"
     },
     "user_tz": 180
    },
    "id": "2fUVL__5o2b4",
    "outputId": "78f12582-4c48-4fa3-9325-45dfecd8e0a5"
   },
   "outputs": [],
   "source": [
    "print('negativa \\n')\n",
    "\n",
    "df.avaliacao[2]"
   ]
  },
  {
   "cell_type": "markdown",
   "metadata": {
    "id": "I0EBhnM3Qb4t"
   },
   "source": [
    "##**Transformando textos em dados numéricos**"
   ]
  },
  {
   "cell_type": "code",
   "execution_count": null,
   "metadata": {
    "id": "7VG6h0n3pLyp"
   },
   "outputs": [],
   "source": [
    "from sklearn.feature_extraction.text import CountVectorizer\n",
    "\n",
    "texto = ['Comprei um produto ótimo', 'Comprei um produto ruim']\n",
    "\n",
    "vetorizar = CountVectorizer()\n",
    "bag_of_words = vetorizar.fit_transform(texto)"
   ]
  },
  {
   "cell_type": "code",
   "execution_count": null,
   "metadata": {
    "colab": {
     "base_uri": "https://localhost:8080/"
    },
    "executionInfo": {
     "elapsed": 7,
     "status": "ok",
     "timestamp": 1728404988588,
     "user": {
      "displayName": "Valquiria Alencar",
      "userId": "06101258850801001374"
     },
     "user_tz": 180
    },
    "id": "z6vwD2sdripx",
    "outputId": "1daf1549-0b24-49e0-f488-eff0b79b9963"
   },
   "outputs": [],
   "source": [
    "bag_of_words"
   ]
  },
  {
   "cell_type": "code",
   "execution_count": null,
   "metadata": {
    "id": "T1_5iqyDrmMI"
   },
   "outputs": [],
   "source": [
    "matriz_esparsa = pd.DataFrame.sparse.from_spmatrix(bag_of_words, columns=vetorizar.get_feature_names_out())"
   ]
  },
  {
   "cell_type": "code",
   "execution_count": null,
   "metadata": {
    "colab": {
     "base_uri": "https://localhost:8080/",
     "height": 125
    },
    "executionInfo": {
     "elapsed": 6,
     "status": "ok",
     "timestamp": 1728404988588,
     "user": {
      "displayName": "Valquiria Alencar",
      "userId": "06101258850801001374"
     },
     "user_tz": 180
    },
    "id": "MHfkCTuRsMjB",
    "outputId": "e4344c66-b9c9-470c-ba03-29708f4915a8"
   },
   "outputs": [],
   "source": [
    "matriz_esparsa"
   ]
  },
  {
   "cell_type": "code",
   "execution_count": null,
   "metadata": {
    "colab": {
     "base_uri": "https://localhost:8080/"
    },
    "executionInfo": {
     "elapsed": 303,
     "status": "ok",
     "timestamp": 1728404988885,
     "user": {
      "displayName": "Valquiria Alencar",
      "userId": "06101258850801001374"
     },
     "user_tz": 180
    },
    "id": "hPNZ2HlqsOb4",
    "outputId": "d5b1a162-574d-40a4-d07e-f7c2f58a684c"
   },
   "outputs": [],
   "source": [
    "vetorizar = CountVectorizer(lowercase=False)\n",
    "bag_of_words = vetorizar.fit_transform(df.avaliacao)\n",
    "print(bag_of_words.shape)"
   ]
  },
  {
   "cell_type": "code",
   "execution_count": null,
   "metadata": {
    "colab": {
     "base_uri": "https://localhost:8080/"
    },
    "executionInfo": {
     "elapsed": 336,
     "status": "ok",
     "timestamp": 1728404989220,
     "user": {
      "displayName": "Valquiria Alencar",
      "userId": "06101258850801001374"
     },
     "user_tz": 180
    },
    "id": "KNWezQsGtF8Q",
    "outputId": "f415b35c-0aa5-4a8f-e91e-ae2e74f9b247"
   },
   "outputs": [],
   "source": [
    "vetorizar = CountVectorizer(lowercase=False, max_features=50)\n",
    "bag_of_words = vetorizar.fit_transform(df.avaliacao)\n",
    "print(bag_of_words.shape)"
   ]
  },
  {
   "cell_type": "code",
   "execution_count": null,
   "metadata": {
    "colab": {
     "base_uri": "https://localhost:8080/",
     "height": 423
    },
    "executionInfo": {
     "elapsed": 3,
     "status": "ok",
     "timestamp": 1728404989220,
     "user": {
      "displayName": "Valquiria Alencar",
      "userId": "06101258850801001374"
     },
     "user_tz": 180
    },
    "id": "k2GPuQwcteXg",
    "outputId": "939c76d9-6469-492a-ce26-e24dd2270584"
   },
   "outputs": [],
   "source": [
    "matriz_esparsa_avaliacoes = pd.DataFrame.sparse.from_spmatrix(bag_of_words, columns=vetorizar.get_feature_names_out())\n",
    "matriz_esparsa_avaliacoes"
   ]
  },
  {
   "cell_type": "markdown",
   "metadata": {
    "id": "lCNybFwkQfUr"
   },
   "source": [
    "##**Classificando os sentimentos**"
   ]
  },
  {
   "cell_type": "code",
   "execution_count": null,
   "metadata": {
    "id": "Y4LHuk1jvkiW"
   },
   "outputs": [],
   "source": [
    "from sklearn.model_selection import train_test_split\n",
    "\n",
    "X_treino, X_teste, y_treino, y_teste = train_test_split(bag_of_words, df.sentimento, random_state=4978)"
   ]
  },
  {
   "cell_type": "code",
   "execution_count": null,
   "metadata": {
    "colab": {
     "base_uri": "https://localhost:8080/"
    },
    "executionInfo": {
     "elapsed": 446,
     "status": "ok",
     "timestamp": 1728404989664,
     "user": {
      "displayName": "Valquiria Alencar",
      "userId": "06101258850801001374"
     },
     "user_tz": 180
    },
    "id": "VrolfAivwbwQ",
    "outputId": "549ecfdb-1e8c-421b-c7d6-378d3a5662b0"
   },
   "outputs": [],
   "source": [
    "from sklearn.linear_model import LogisticRegression\n",
    "\n",
    "regressao_logistica = LogisticRegression()\n",
    "regressao_logistica.fit(X_treino, y_treino)\n",
    "acuracia = regressao_logistica.score(X_teste, y_teste)\n",
    "print(acuracia)"
   ]
  },
  {
   "cell_type": "markdown",
   "metadata": {
    "id": "b93w2E6jQid2"
   },
   "source": [
    "#**Explorando a frequência e o sentimento das palavras**"
   ]
  },
  {
   "cell_type": "markdown",
   "metadata": {
    "id": "p6oVfFyHQmcC"
   },
   "source": [
    "##**Visualizando as palavras mais frequentes nas avaliações**"
   ]
  },
  {
   "cell_type": "code",
   "execution_count": null,
   "metadata": {
    "id": "plMkFP5yxICQ"
   },
   "outputs": [],
   "source": [
    "from wordcloud import WordCloud"
   ]
  },
  {
   "cell_type": "code",
   "execution_count": null,
   "metadata": {
    "id": "BjeNJ47-E0Kv"
   },
   "outputs": [],
   "source": [
    "todas_palavras = [texto for texto in df.avaliacao]"
   ]
  },
  {
   "cell_type": "code",
   "execution_count": null,
   "metadata": {
    "colab": {
     "base_uri": "https://localhost:8080/"
    },
    "collapsed": true,
    "executionInfo": {
     "elapsed": 556,
     "status": "ok",
     "timestamp": 1728406930200,
     "user": {
      "displayName": "Valquiria Alencar",
      "userId": "06101258850801001374"
     },
     "user_tz": 180
    },
    "id": "JIVA9-HaFBH_",
    "outputId": "f6b4ab9b-2977-40d2-da20-3ff06fa990a4"
   },
   "outputs": [],
   "source": [
    "todas_palavras"
   ]
  },
  {
   "cell_type": "code",
   "execution_count": null,
   "metadata": {
    "id": "yX6ElkedFL8_"
   },
   "outputs": [],
   "source": [
    "todas_palavras = ' '.join([texto for texto in df.avaliacao])"
   ]
  },
  {
   "cell_type": "code",
   "execution_count": null,
   "metadata": {
    "colab": {
     "base_uri": "https://localhost:8080/",
     "height": 143
    },
    "executionInfo": {
     "elapsed": 2194,
     "status": "ok",
     "timestamp": 1728407017780,
     "user": {
      "displayName": "Valquiria Alencar",
      "userId": "06101258850801001374"
     },
     "user_tz": 180
    },
    "id": "qlJT1yl4FfTH",
    "outputId": "cb865e33-2e85-43b5-e2eb-caed9bf6ee43"
   },
   "outputs": [],
   "source": [
    "todas_palavras"
   ]
  },
  {
   "cell_type": "code",
   "execution_count": null,
   "metadata": {
    "id": "PPQbm6mJFg73"
   },
   "outputs": [],
   "source": [
    "nuvem_palavras = WordCloud().generate(todas_palavras)"
   ]
  },
  {
   "cell_type": "code",
   "execution_count": null,
   "metadata": {
    "colab": {
     "base_uri": "https://localhost:8080/",
     "height": 313
    },
    "executionInfo": {
     "elapsed": 1803,
     "status": "ok",
     "timestamp": 1728407171848,
     "user": {
      "displayName": "Valquiria Alencar",
      "userId": "06101258850801001374"
     },
     "user_tz": 180
    },
    "id": "XRJyz5EHFyWP",
    "outputId": "0b10dfac-2fbb-4f36-a3f5-7a0c7323913c"
   },
   "outputs": [],
   "source": [
    "import matplotlib.pyplot as plt\n",
    "\n",
    "plt.figure()\n",
    "plt.imshow(nuvem_palavras)\n",
    "plt.show()"
   ]
  },
  {
   "cell_type": "code",
   "execution_count": null,
   "metadata": {
    "colab": {
     "base_uri": "https://localhost:8080/",
     "height": 521
    },
    "executionInfo": {
     "elapsed": 7432,
     "status": "ok",
     "timestamp": 1728407426362,
     "user": {
      "displayName": "Valquiria Alencar",
      "userId": "06101258850801001374"
     },
     "user_tz": 180
    },
    "id": "EuU8GgigGGm2",
    "outputId": "8efa0c09-2a85-4848-c54c-e5268151cc6c"
   },
   "outputs": [],
   "source": [
    "nuvem_palavras = WordCloud(width=800, height=500, max_font_size=110).generate(todas_palavras)\n",
    "plt.figure(figsize=(10,7))\n",
    "plt.imshow(nuvem_palavras, interpolation='bilinear')\n",
    "plt.axis('off')\n",
    "plt.show()"
   ]
  },
  {
   "cell_type": "code",
   "execution_count": null,
   "metadata": {
    "colab": {
     "base_uri": "https://localhost:8080/",
     "height": 521
    },
    "executionInfo": {
     "elapsed": 3300,
     "status": "ok",
     "timestamp": 1728407494439,
     "user": {
      "displayName": "Valquiria Alencar",
      "userId": "06101258850801001374"
     },
     "user_tz": 180
    },
    "id": "nqTp6OnjHDXO",
    "outputId": "8b88c9bc-357f-4ded-d0bb-0550949dec03"
   },
   "outputs": [],
   "source": [
    "nuvem_palavras = WordCloud(width=800, height=500, max_font_size=110, collocations=False).generate(todas_palavras)\n",
    "plt.figure(figsize=(10,7))\n",
    "plt.imshow(nuvem_palavras, interpolation='bilinear')\n",
    "plt.axis('off')\n",
    "plt.show()"
   ]
  },
  {
   "cell_type": "markdown",
   "metadata": {
    "id": "4-MFQgFQQpCY"
   },
   "source": [
    "##**Analisando palavras por sentimento**"
   ]
  },
  {
   "cell_type": "code",
   "execution_count": null,
   "metadata": {
    "id": "pkAN0xs-HU_n"
   },
   "outputs": [],
   "source": [
    "def nuvem_palavras(texto, coluna_texto, sentimento):\n",
    "  # Filtrando as resenhas com base no sentimento especificado\n",
    "  texto_sentimento = texto.query(f\"sentimento == '{sentimento}'\")[coluna_texto]\n",
    "\n",
    "  # Unindo todas as resenhas em uma única string\n",
    "  texto_unido = ' '.join(texto_sentimento)\n",
    "\n",
    "  # Criando e exibindo a nuvem de palavras\n",
    "  nuvem_palavras = WordCloud(width=800, height=500, max_font_size=110, collocations=False).generate(texto_unido)\n",
    "  plt.figure(figsize=(10,7))\n",
    "  plt.imshow(nuvem_palavras, interpolation='bilinear')\n",
    "  plt.axis('off')\n",
    "  plt.show()"
   ]
  },
  {
   "cell_type": "code",
   "execution_count": null,
   "metadata": {
    "colab": {
     "base_uri": "https://localhost:8080/",
     "height": 521
    },
    "executionInfo": {
     "elapsed": 3293,
     "status": "ok",
     "timestamp": 1728408084549,
     "user": {
      "displayName": "Valquiria Alencar",
      "userId": "06101258850801001374"
     },
     "user_tz": 180
    },
    "id": "SpKRkqZSJaUe",
    "outputId": "e123a4b1-4b17-4d0c-ee8f-d304f6b585b3"
   },
   "outputs": [],
   "source": [
    "nuvem_palavras(df, 'avaliacao', 'negativo')"
   ]
  },
  {
   "cell_type": "code",
   "execution_count": null,
   "metadata": {
    "colab": {
     "base_uri": "https://localhost:8080/",
     "height": 521
    },
    "executionInfo": {
     "elapsed": 5796,
     "status": "ok",
     "timestamp": 1728408201834,
     "user": {
      "displayName": "Valquiria Alencar",
      "userId": "06101258850801001374"
     },
     "user_tz": 180
    },
    "id": "BTRVr5BoJlG-",
    "outputId": "723ef22a-be4a-4cfd-8187-4f59ac0d9f2d"
   },
   "outputs": [],
   "source": [
    "nuvem_palavras(df, 'avaliacao', 'positivo')"
   ]
  },
  {
   "cell_type": "markdown",
   "metadata": {
    "id": "4HxI8fErQxUC"
   },
   "source": [
    "##**Dividindo o texto em unidades menores**"
   ]
  },
  {
   "cell_type": "code",
   "execution_count": null,
   "metadata": {
    "colab": {
     "base_uri": "https://localhost:8080/",
     "height": 143
    },
    "executionInfo": {
     "elapsed": 2509,
     "status": "ok",
     "timestamp": 1728409358682,
     "user": {
      "displayName": "Valquiria Alencar",
      "userId": "06101258850801001374"
     },
     "user_tz": 180
    },
    "id": "ylULUIC0OHbO",
    "outputId": "53a766a0-b4d8-4621-81ae-8fd17d9ca320"
   },
   "outputs": [],
   "source": [
    "todas_palavras"
   ]
  },
  {
   "cell_type": "code",
   "execution_count": null,
   "metadata": {
    "id": "9feBOCVcOcU-"
   },
   "outputs": [],
   "source": [
    "import nltk\n",
    "\n",
    "nltk.download(\"all\")"
   ]
  },
  {
   "cell_type": "code",
   "execution_count": null,
   "metadata": {
    "colab": {
     "base_uri": "https://localhost:8080/"
    },
    "executionInfo": {
     "elapsed": 302,
     "status": "ok",
     "timestamp": 1728409490561,
     "user": {
      "displayName": "Valquiria Alencar",
      "userId": "06101258850801001374"
     },
     "user_tz": 180
    },
    "id": "NB9sxw46OtuW",
    "outputId": "326cd72f-1ae6-448c-8c83-8c69b077c65e"
   },
   "outputs": [],
   "source": [
    "frases = ['um produto bom', 'um produto ruim']\n",
    "frequencia = nltk.FreqDist(frases)\n",
    "frequencia"
   ]
  },
  {
   "cell_type": "code",
   "execution_count": null,
   "metadata": {
    "colab": {
     "base_uri": "https://localhost:8080/"
    },
    "executionInfo": {
     "elapsed": 429,
     "status": "ok",
     "timestamp": 1728409656216,
     "user": {
      "displayName": "Valquiria Alencar",
      "userId": "06101258850801001374"
     },
     "user_tz": 180
    },
    "id": "jnJouXYTO9Gd",
    "outputId": "92e9a6d3-2ac4-4e73-c3e2-5b814f0d6a22"
   },
   "outputs": [],
   "source": [
    "from nltk import tokenize\n",
    "\n",
    "frase = 'O produto é excelente e a entrega foi muito rápida!'\n",
    "\n",
    "token_espaco = tokenize.WhitespaceTokenizer()\n",
    "token_frase = token_espaco.tokenize(frase)\n",
    "print(token_frase)"
   ]
  },
  {
   "cell_type": "markdown",
   "metadata": {
    "id": "lGrfu27JQ0mk"
   },
   "source": [
    "##**Analisando a frequência das palavras**"
   ]
  },
  {
   "cell_type": "code",
   "execution_count": null,
   "metadata": {
    "id": "34AjZj30PlhV"
   },
   "outputs": [],
   "source": [
    "token_frase = token_espaco.tokenize(todas_palavras)"
   ]
  },
  {
   "cell_type": "code",
   "execution_count": null,
   "metadata": {
    "colab": {
     "base_uri": "https://localhost:8080/"
    },
    "collapsed": true,
    "executionInfo": {
     "elapsed": 312,
     "status": "ok",
     "timestamp": 1728409865555,
     "user": {
      "displayName": "Valquiria Alencar",
      "userId": "06101258850801001374"
     },
     "user_tz": 180
    },
    "id": "jXBJSQtFQWoW",
    "outputId": "7a21e21a-fe6e-4c99-dd98-0172f1846fd7"
   },
   "outputs": [],
   "source": [
    "token_frase"
   ]
  },
  {
   "cell_type": "code",
   "execution_count": null,
   "metadata": {
    "colab": {
     "base_uri": "https://localhost:8080/"
    },
    "executionInfo": {
     "elapsed": 1022,
     "status": "ok",
     "timestamp": 1728409922644,
     "user": {
      "displayName": "Valquiria Alencar",
      "userId": "06101258850801001374"
     },
     "user_tz": 180
    },
    "id": "YyrR0LEGQYp9",
    "outputId": "9de240b0-7821-49a0-9d59-f56716564556"
   },
   "outputs": [],
   "source": [
    "frequencia = nltk.FreqDist(token_frase)\n",
    "frequencia"
   ]
  },
  {
   "cell_type": "code",
   "execution_count": null,
   "metadata": {
    "id": "QwwrsttxQmbN"
   },
   "outputs": [],
   "source": [
    "df_frequencia = pd.DataFrame({'Palavra': list(frequencia.keys()),\n",
    "                              'Frequência': list(frequencia.values())})"
   ]
  },
  {
   "cell_type": "code",
   "execution_count": null,
   "metadata": {
    "colab": {
     "base_uri": "https://localhost:8080/",
     "height": 206
    },
    "executionInfo": {
     "elapsed": 310,
     "status": "ok",
     "timestamp": 1728410097928,
     "user": {
      "displayName": "Valquiria Alencar",
      "userId": "06101258850801001374"
     },
     "user_tz": 180
    },
    "id": "bE1_Rqv6RPHm",
    "outputId": "44e5c3f0-f7c1-4ec8-eab0-5264be3455c5"
   },
   "outputs": [],
   "source": [
    "df_frequencia.head()"
   ]
  },
  {
   "cell_type": "code",
   "execution_count": null,
   "metadata": {
    "colab": {
     "base_uri": "https://localhost:8080/",
     "height": 363
    },
    "executionInfo": {
     "elapsed": 308,
     "status": "ok",
     "timestamp": 1728410177038,
     "user": {
      "displayName": "Valquiria Alencar",
      "userId": "06101258850801001374"
     },
     "user_tz": 180
    },
    "id": "7d6hy95TRRY-",
    "outputId": "fe38aa31-9812-4e1a-e968-c03cd0a87b17"
   },
   "outputs": [],
   "source": [
    "df_frequencia.nlargest(columns='Frequência', n=10)"
   ]
  },
  {
   "cell_type": "code",
   "execution_count": null,
   "metadata": {
    "colab": {
     "base_uri": "https://localhost:8080/",
     "height": 386
    },
    "executionInfo": {
     "elapsed": 1386,
     "status": "ok",
     "timestamp": 1728410358381,
     "user": {
      "displayName": "Valquiria Alencar",
      "userId": "06101258850801001374"
     },
     "user_tz": 180
    },
    "id": "vPpRVTXIRks9",
    "outputId": "68dec9fa-59b0-4dc3-c85d-b752d7c9f86e"
   },
   "outputs": [],
   "source": [
    "import seaborn as sns\n",
    "\n",
    "plt.figure(figsize=(20,6))\n",
    "ax = sns.barplot(data=df_frequencia.nlargest(columns='Frequência', n=20), x='Palavra', y='Frequência', color='gray')\n",
    "ax.set(ylabel='Contagem')\n",
    "plt.show()"
   ]
  },
  {
   "cell_type": "markdown",
   "metadata": {
    "id": "VkT_cBujQ6ie"
   },
   "source": [
    "#**Limpando e normalizando dados textuais**"
   ]
  },
  {
   "cell_type": "markdown",
   "metadata": {
    "id": "Cmtr_-hjQ9z8"
   },
   "source": [
    "##**Removendo stopwords**"
   ]
  },
  {
   "cell_type": "code",
   "execution_count": null,
   "metadata": {
    "id": "gSJwEqXRSQtm"
   },
   "outputs": [],
   "source": [
    "palavras_irrelevantes = nltk.corpus.stopwords.words('portuguese')"
   ]
  },
  {
   "cell_type": "code",
   "execution_count": null,
   "metadata": {
    "colab": {
     "base_uri": "https://localhost:8080/"
    },
    "collapsed": true,
    "executionInfo": {
     "elapsed": 309,
     "status": "ok",
     "timestamp": 1728411862916,
     "user": {
      "displayName": "Valquiria Alencar",
      "userId": "06101258850801001374"
     },
     "user_tz": 180
    },
    "id": "bEz3HDGYXwCF",
    "outputId": "8d3b2272-92fe-47ff-9010-8459b24bf7f4"
   },
   "outputs": [],
   "source": [
    "palavras_irrelevantes"
   ]
  },
  {
   "cell_type": "code",
   "execution_count": null,
   "metadata": {
    "id": "ftKgMkoPYAS-"
   },
   "outputs": [],
   "source": [
    "frase_processada = []\n",
    "\n",
    "for opiniao in df.avaliacao:\n",
    "  palavras_texto = token_espaco.tokenize(opiniao)\n",
    "  nova_frase = [palavra for palavra in palavras_texto if palavra not in palavras_irrelevantes]\n",
    "  frase_processada.append(' '.join(nova_frase))\n",
    "\n",
    "df['tratamento_1'] = frase_processada"
   ]
  },
  {
   "cell_type": "code",
   "execution_count": null,
   "metadata": {
    "colab": {
     "base_uri": "https://localhost:8080/",
     "height": 206
    },
    "executionInfo": {
     "elapsed": 310,
     "status": "ok",
     "timestamp": 1728412190870,
     "user": {
      "displayName": "Valquiria Alencar",
      "userId": "06101258850801001374"
     },
     "user_tz": 180
    },
    "id": "PvSsK9QKZNs2",
    "outputId": "254b92fa-0c73-48f2-eacc-0afd5ca104bc"
   },
   "outputs": [],
   "source": [
    "df.head()"
   ]
  },
  {
   "cell_type": "code",
   "execution_count": null,
   "metadata": {
    "colab": {
     "base_uri": "https://localhost:8080/",
     "height": 35
    },
    "executionInfo": {
     "elapsed": 314,
     "status": "ok",
     "timestamp": 1728412230423,
     "user": {
      "displayName": "Valquiria Alencar",
      "userId": "06101258850801001374"
     },
     "user_tz": 180
    },
    "id": "d2pZHV2cZQXF",
    "outputId": "5dbac607-2fda-44a1-8d57-af826933ce8d"
   },
   "outputs": [],
   "source": [
    "df['avaliacao'][0]"
   ]
  },
  {
   "cell_type": "code",
   "execution_count": null,
   "metadata": {
    "colab": {
     "base_uri": "https://localhost:8080/",
     "height": 35
    },
    "executionInfo": {
     "elapsed": 320,
     "status": "ok",
     "timestamp": 1728412250804,
     "user": {
      "displayName": "Valquiria Alencar",
      "userId": "06101258850801001374"
     },
     "user_tz": 180
    },
    "id": "jPPSt4vZZaBN",
    "outputId": "0a53f403-4452-4cfc-9e9a-b0d3c26bd2aa"
   },
   "outputs": [],
   "source": [
    "df['tratamento_1'][0]"
   ]
  },
  {
   "cell_type": "code",
   "execution_count": null,
   "metadata": {
    "id": "GUeCLUENZe_l"
   },
   "outputs": [],
   "source": [
    "def classificar_texto(texto, coluna_texto, coluna_classificacao):\n",
    "    vetorizar = CountVectorizer(lowercase=False, max_features=50)\n",
    "    bag_of_words = vetorizar.fit_transform(texto[coluna_texto])\n",
    "    X_treino, X_teste, y_treino, y_teste = train_test_split(bag_of_words, texto[coluna_classificacao], random_state=4978)\n",
    "    regressao_logistica = LogisticRegression()\n",
    "    regressao_logistica.fit(X_treino, y_treino)\n",
    "    acuracia = regressao_logistica.score(X_teste, y_teste)\n",
    "    return print(f\"Acurácia do modelo com '{coluna_texto}': {acuracia * 100:.2f}%\")"
   ]
  },
  {
   "cell_type": "code",
   "execution_count": null,
   "metadata": {
    "colab": {
     "base_uri": "https://localhost:8080/"
    },
    "executionInfo": {
     "elapsed": 1037,
     "status": "ok",
     "timestamp": 1728412488041,
     "user": {
      "displayName": "Valquiria Alencar",
      "userId": "06101258850801001374"
     },
     "user_tz": 180
    },
    "id": "5FIts9SRaEbm",
    "outputId": "136eee54-3093-44b9-d7ea-2479b3f5eafa"
   },
   "outputs": [],
   "source": [
    "classificar_texto(df, 'tratamento_1', 'sentimento')"
   ]
  },
  {
   "cell_type": "code",
   "execution_count": null,
   "metadata": {
    "id": "kk8K3ezoaYvN"
   },
   "outputs": [],
   "source": [
    "def grafico_frequencia(texto, coluna_texto, quantidade):\n",
    "    todas_palavras = ' '.join([texto for texto in texto[coluna_texto]])\n",
    "    token_espaco = tokenize.WhitespaceTokenizer()\n",
    "    frequencia = nltk.FreqDist(token_espaco.tokenize(todas_palavras))\n",
    "    df_frequencia = pd.DataFrame({\"Palavra\": list(frequencia.keys()),\n",
    "                                 \"Frequência\": list(frequencia.values())})\n",
    "    df_frequencia = df_frequencia.nlargest(columns=\"Frequência\", n=quantidade)\n",
    "    plt.figure(figsize=(20,6))\n",
    "    ax = sns.barplot(data=df_frequencia, x=\"Palavra\", y =\"Frequência\", color='gray')\n",
    "    ax.set(ylabel=\"Contagem\")\n",
    "    plt.show()"
   ]
  },
  {
   "cell_type": "code",
   "execution_count": null,
   "metadata": {
    "colab": {
     "base_uri": "https://localhost:8080/",
     "height": 392
    },
    "executionInfo": {
     "elapsed": 2396,
     "status": "ok",
     "timestamp": 1728412611293,
     "user": {
      "displayName": "Valquiria Alencar",
      "userId": "06101258850801001374"
     },
     "user_tz": 180
    },
    "id": "1djEIfLSaxGt",
    "outputId": "c2a394c8-614f-4ef9-e307-9320f7e8efc8"
   },
   "outputs": [],
   "source": [
    "grafico_frequencia(df, 'tratamento_1', 20)"
   ]
  },
  {
   "cell_type": "markdown",
   "metadata": {
    "id": "AdH_8Ew5RG_2"
   },
   "source": [
    "##**Removendo pontuações**"
   ]
  },
  {
   "cell_type": "code",
   "execution_count": null,
   "metadata": {
    "colab": {
     "base_uri": "https://localhost:8080/"
    },
    "executionInfo": {
     "elapsed": 292,
     "status": "ok",
     "timestamp": 1728412980257,
     "user": {
      "displayName": "Valquiria Alencar",
      "userId": "06101258850801001374"
     },
     "user_tz": 180
    },
    "id": "aQtRTuWJa2W1",
    "outputId": "939afa64-5ce6-4c1d-b52a-45a476f45ef4"
   },
   "outputs": [],
   "source": [
    "frase = 'Esse smartphone superou expectativas, recomendo'\n",
    "\n",
    "token_pontuacao = tokenize.WordPunctTokenizer()\n",
    "token_frase = token_pontuacao.tokenize(frase)\n",
    "print(token_frase)"
   ]
  },
  {
   "cell_type": "code",
   "execution_count": null,
   "metadata": {
    "id": "OXyoEkJfcNvF"
   },
   "outputs": [],
   "source": [
    "frase_processada = []\n",
    "\n",
    "for opiniao in df['tratamento_1']:\n",
    "  palavras_texto = token_pontuacao.tokenize(opiniao)\n",
    "  nova_frase = [palavra for palavra in palavras_texto if palavra.isalpha() and palavra not in palavras_irrelevantes]\n",
    "  frase_processada.append(' '.join(nova_frase))\n",
    "\n",
    "df['tratamento_2'] = frase_processada"
   ]
  },
  {
   "cell_type": "code",
   "execution_count": null,
   "metadata": {
    "colab": {
     "base_uri": "https://localhost:8080/",
     "height": 293
    },
    "executionInfo": {
     "elapsed": 302,
     "status": "ok",
     "timestamp": 1728413666228,
     "user": {
      "displayName": "Valquiria Alencar",
      "userId": "06101258850801001374"
     },
     "user_tz": 180
    },
    "id": "RUm0rnAIdqnF",
    "outputId": "6d036dc2-6c98-4a54-aef5-6cdb83231c86"
   },
   "outputs": [],
   "source": [
    "df.head()"
   ]
  },
  {
   "cell_type": "code",
   "execution_count": null,
   "metadata": {
    "colab": {
     "base_uri": "https://localhost:8080/",
     "height": 35
    },
    "executionInfo": {
     "elapsed": 332,
     "status": "ok",
     "timestamp": 1728413400659,
     "user": {
      "displayName": "Valquiria Alencar",
      "userId": "06101258850801001374"
     },
     "user_tz": 180
    },
    "id": "Th6S75h7dtl1",
    "outputId": "ff732be5-96c4-47f7-f5cb-fa665bfdf5ee"
   },
   "outputs": [],
   "source": [
    "df['tratamento_1'][10]"
   ]
  },
  {
   "cell_type": "code",
   "execution_count": null,
   "metadata": {
    "colab": {
     "base_uri": "https://localhost:8080/",
     "height": 35
    },
    "executionInfo": {
     "elapsed": 303,
     "status": "ok",
     "timestamp": 1728413425845,
     "user": {
      "displayName": "Valquiria Alencar",
      "userId": "06101258850801001374"
     },
     "user_tz": 180
    },
    "id": "NWZJcPBJd3tl",
    "outputId": "fe3bc5ba-2050-4cd8-9aaf-b2df21290bfc"
   },
   "outputs": [],
   "source": [
    "df['tratamento_2'][10]"
   ]
  },
  {
   "cell_type": "code",
   "execution_count": null,
   "metadata": {
    "colab": {
     "base_uri": "https://localhost:8080/",
     "height": 562
    },
    "executionInfo": {
     "elapsed": 1226,
     "status": "ok",
     "timestamp": 1728413486207,
     "user": {
      "displayName": "Valquiria Alencar",
      "userId": "06101258850801001374"
     },
     "user_tz": 180
    },
    "id": "IYixf0nOd93d",
    "outputId": "4638a3fa-611b-4e2b-e460-f5a4a370e9e9"
   },
   "outputs": [],
   "source": [
    "grafico_frequencia(df, 'tratamento_2', 20)"
   ]
  },
  {
   "cell_type": "markdown",
   "metadata": {
    "id": "xhVTkp4GRK3U"
   },
   "source": [
    "##**Removendo acentuação**"
   ]
  },
  {
   "cell_type": "code",
   "execution_count": null,
   "metadata": {
    "colab": {
     "base_uri": "https://localhost:8080/"
    },
    "executionInfo": {
     "elapsed": 6283,
     "status": "ok",
     "timestamp": 1728413941102,
     "user": {
      "displayName": "Valquiria Alencar",
      "userId": "06101258850801001374"
     },
     "user_tz": 180
    },
    "id": "sJuyf5dTf0PX",
    "outputId": "390c1b43-9e80-4a01-a755-72664369da97"
   },
   "outputs": [],
   "source": [
    "! pip install unidecode"
   ]
  },
  {
   "cell_type": "code",
   "execution_count": null,
   "metadata": {
    "colab": {
     "base_uri": "https://localhost:8080/"
    },
    "executionInfo": {
     "elapsed": 289,
     "status": "ok",
     "timestamp": 1728414027083,
     "user": {
      "displayName": "Valquiria Alencar",
      "userId": "06101258850801001374"
     },
     "user_tz": 180
    },
    "id": "HuGBjvV6f6NV",
    "outputId": "c1b6fa30-6196-47ed-d150-b6038ba61c52"
   },
   "outputs": [],
   "source": [
    "import unidecode\n",
    "\n",
    "frase =  'Um aparelho ótima performance preço bem menor outros aparelhos marcas conhecidas performance semelhante'\n",
    "\n",
    "teste = unidecode.unidecode(frase)\n",
    "print(teste)"
   ]
  },
  {
   "cell_type": "code",
   "execution_count": null,
   "metadata": {
    "id": "USRD6G-LgQqF"
   },
   "outputs": [],
   "source": [
    "sem_acentos = [unidecode.unidecode(texto) for texto in df['tratamento_2']]"
   ]
  },
  {
   "cell_type": "code",
   "execution_count": null,
   "metadata": {
    "id": "o_j_V3BggiYd"
   },
   "outputs": [],
   "source": [
    "stopwords_sem_acento = [unidecode.unidecode(texto) for texto in palavras_irrelevantes]"
   ]
  },
  {
   "cell_type": "code",
   "execution_count": null,
   "metadata": {
    "id": "FalQMytzgvLl"
   },
   "outputs": [],
   "source": [
    "df['tratamento_3'] = sem_acentos\n",
    "\n",
    "frase_processada = []\n",
    "\n",
    "for opiniao in df['tratamento_3']:\n",
    "  palavras_texto = token_pontuacao.tokenize(opiniao)\n",
    "  nova_frase = [palavra for palavra in palavras_texto if palavra not in stopwords_sem_acento]\n",
    "  frase_processada.append(' '.join(nova_frase))\n",
    "\n",
    "df['tratamento_3'] = frase_processada"
   ]
  },
  {
   "cell_type": "code",
   "execution_count": null,
   "metadata": {
    "colab": {
     "base_uri": "https://localhost:8080/",
     "height": 293
    },
    "executionInfo": {
     "elapsed": 293,
     "status": "ok",
     "timestamp": 1728414348792,
     "user": {
      "displayName": "Valquiria Alencar",
      "userId": "06101258850801001374"
     },
     "user_tz": 180
    },
    "id": "vao8DapGhdrN",
    "outputId": "f7ddefba-448e-4fc2-9585-ec9bfcfb53a8"
   },
   "outputs": [],
   "source": [
    "df.head()"
   ]
  },
  {
   "cell_type": "code",
   "execution_count": null,
   "metadata": {
    "colab": {
     "base_uri": "https://localhost:8080/",
     "height": 71
    },
    "executionInfo": {
     "elapsed": 340,
     "status": "ok",
     "timestamp": 1728414370836,
     "user": {
      "displayName": "Valquiria Alencar",
      "userId": "06101258850801001374"
     },
     "user_tz": 180
    },
    "id": "gdLub-bxhfNF",
    "outputId": "47bfd77b-eca5-4d57-e713-027a51330920"
   },
   "outputs": [],
   "source": [
    "df['tratamento_2'][70]"
   ]
  },
  {
   "cell_type": "code",
   "execution_count": null,
   "metadata": {
    "colab": {
     "base_uri": "https://localhost:8080/",
     "height": 71
    },
    "executionInfo": {
     "elapsed": 302,
     "status": "ok",
     "timestamp": 1728414408138,
     "user": {
      "displayName": "Valquiria Alencar",
      "userId": "06101258850801001374"
     },
     "user_tz": 180
    },
    "id": "Ot1lK12ChkkV",
    "outputId": "e04dd4ea-8433-48c5-aa18-a1db79019417"
   },
   "outputs": [],
   "source": [
    "df['tratamento_3'][70]"
   ]
  },
  {
   "cell_type": "code",
   "execution_count": null,
   "metadata": {
    "colab": {
     "base_uri": "https://localhost:8080/",
     "height": 389
    },
    "executionInfo": {
     "elapsed": 2188,
     "status": "ok",
     "timestamp": 1728414450260,
     "user": {
      "displayName": "Valquiria Alencar",
      "userId": "06101258850801001374"
     },
     "user_tz": 180
    },
    "id": "8l6rwa9ihtsN",
    "outputId": "a441f376-04eb-494d-9d86-6d7154d7d0bf"
   },
   "outputs": [],
   "source": [
    "grafico_frequencia(df, 'tratamento_3', 20)"
   ]
  },
  {
   "cell_type": "markdown",
   "metadata": {
    "id": "08leUhxoRQEe"
   },
   "source": [
    "##**Uniformizando o texto**"
   ]
  },
  {
   "cell_type": "code",
   "execution_count": null,
   "metadata": {
    "colab": {
     "base_uri": "https://localhost:8080/"
    },
    "executionInfo": {
     "elapsed": 371,
     "status": "ok",
     "timestamp": 1728414728725,
     "user": {
      "displayName": "Valquiria Alencar",
      "userId": "06101258850801001374"
     },
     "user_tz": 180
    },
    "id": "2xImq7YKh3gt",
    "outputId": "cc126b0c-ae09-42fc-e967-fc89a2e45b44"
   },
   "outputs": [],
   "source": [
    "frase = 'Bom produto otimo custo beneficio Recomendo Confortavel bem acabado'\n",
    "print(frase.lower())"
   ]
  },
  {
   "cell_type": "code",
   "execution_count": null,
   "metadata": {
    "id": "8ChlMPSxi78F"
   },
   "outputs": [],
   "source": [
    "frase_processada = []\n",
    "\n",
    "for opiniao in df['tratamento_3']:\n",
    "  opiniao = opiniao.lower()\n",
    "  palavras_texto = token_pontuacao.tokenize(opiniao)\n",
    "  nova_frase = [palavra for palavra in palavras_texto if palavra not in stopwords_sem_acento]\n",
    "  frase_processada.append(' '.join(nova_frase))\n",
    "\n",
    "df['tratamento_4'] = frase_processada"
   ]
  },
  {
   "cell_type": "code",
   "execution_count": null,
   "metadata": {
    "colab": {
     "base_uri": "https://localhost:8080/",
     "height": 379
    },
    "executionInfo": {
     "elapsed": 1406,
     "status": "ok",
     "timestamp": 1728415006599,
     "user": {
      "displayName": "Valquiria Alencar",
      "userId": "06101258850801001374"
     },
     "user_tz": 180
    },
    "id": "46APvcd-j939",
    "outputId": "ae4e46cb-e79c-4539-dcb2-d1dc8577fe29"
   },
   "outputs": [],
   "source": [
    "df.head()"
   ]
  },
  {
   "cell_type": "code",
   "execution_count": null,
   "metadata": {
    "colab": {
     "base_uri": "https://localhost:8080/",
     "height": 35
    },
    "executionInfo": {
     "elapsed": 271,
     "status": "ok",
     "timestamp": 1728415029592,
     "user": {
      "displayName": "Valquiria Alencar",
      "userId": "06101258850801001374"
     },
     "user_tz": 180
    },
    "id": "As0gNEF2j_hk",
    "outputId": "5258e580-ca95-4db7-9776-d49f81ca5b98"
   },
   "outputs": [],
   "source": [
    "df['tratamento_3'][3]"
   ]
  },
  {
   "cell_type": "code",
   "execution_count": null,
   "metadata": {
    "colab": {
     "base_uri": "https://localhost:8080/",
     "height": 35
    },
    "executionInfo": {
     "elapsed": 351,
     "status": "ok",
     "timestamp": 1728415047688,
     "user": {
      "displayName": "Valquiria Alencar",
      "userId": "06101258850801001374"
     },
     "user_tz": 180
    },
    "id": "_o8QHy73kFal",
    "outputId": "e662650e-b9d5-44cb-d38e-48b22da65840"
   },
   "outputs": [],
   "source": [
    "df['tratamento_4'][3]"
   ]
  },
  {
   "cell_type": "code",
   "execution_count": null,
   "metadata": {
    "colab": {
     "base_uri": "https://localhost:8080/"
    },
    "executionInfo": {
     "elapsed": 2250,
     "status": "ok",
     "timestamp": 1728415122832,
     "user": {
      "displayName": "Valquiria Alencar",
      "userId": "06101258850801001374"
     },
     "user_tz": 180
    },
    "id": "5cbbOiQmkaz6",
    "outputId": "1ca3509c-3b1a-43fc-8fb1-93aad1ee6788"
   },
   "outputs": [],
   "source": [
    "classificar_texto(df, 'tratamento_1', 'sentimento')"
   ]
  },
  {
   "cell_type": "code",
   "execution_count": null,
   "metadata": {
    "colab": {
     "base_uri": "https://localhost:8080/"
    },
    "executionInfo": {
     "elapsed": 604,
     "status": "ok",
     "timestamp": 1728415100721,
     "user": {
      "displayName": "Valquiria Alencar",
      "userId": "06101258850801001374"
     },
     "user_tz": 180
    },
    "id": "xVj_-YhukJ0V",
    "outputId": "b7f77ff9-aef7-489b-acde-df0358de3220"
   },
   "outputs": [],
   "source": [
    "classificar_texto(df, 'tratamento_4', 'sentimento')"
   ]
  },
  {
   "cell_type": "markdown",
   "metadata": {
    "id": "aoEBKRXRFEmN"
   },
   "source": [
    "#**Aula 4: Utilizando outras técnicas de processamento de texto**"
   ]
  },
  {
   "cell_type": "markdown",
   "metadata": {
    "id": "BdQrSXXZFIZe"
   },
   "source": [
    "##**Simplificando as palavras**"
   ]
  },
  {
   "cell_type": "code",
   "execution_count": null,
   "metadata": {
    "colab": {
     "base_uri": "https://localhost:8080/",
     "height": 35
    },
    "executionInfo": {
     "elapsed": 6,
     "status": "ok",
     "timestamp": 1728580332686,
     "user": {
      "displayName": "Valquiria Alencar",
      "userId": "06101258850801001374"
     },
     "user_tz": 180
    },
    "id": "X1XDNT9L1NdV",
    "outputId": "f7ebc18e-2fb6-4f73-d907-5bb5cbf001b6"
   },
   "outputs": [],
   "source": [
    "stemmer = nltk.RSLPStemmer()\n",
    "\n",
    "stemmer.stem('gostei')"
   ]
  },
  {
   "cell_type": "code",
   "execution_count": null,
   "metadata": {
    "colab": {
     "base_uri": "https://localhost:8080/",
     "height": 35
    },
    "executionInfo": {
     "elapsed": 6,
     "status": "ok",
     "timestamp": 1728580332686,
     "user": {
      "displayName": "Valquiria Alencar",
      "userId": "06101258850801001374"
     },
     "user_tz": 180
    },
    "id": "Plx0oNLG25HQ",
    "outputId": "783b6d53-2d49-46a1-ff5d-f683c4c44831"
   },
   "outputs": [],
   "source": [
    "stemmer.stem('gostado')"
   ]
  },
  {
   "cell_type": "code",
   "execution_count": null,
   "metadata": {
    "colab": {
     "base_uri": "https://localhost:8080/",
     "height": 35
    },
    "executionInfo": {
     "elapsed": 5,
     "status": "ok",
     "timestamp": 1728580332686,
     "user": {
      "displayName": "Valquiria Alencar",
      "userId": "06101258850801001374"
     },
     "user_tz": 180
    },
    "id": "KLTes2XG2-4Q",
    "outputId": "f6b4a524-7858-4e18-80ea-ab5a517ddccd"
   },
   "outputs": [],
   "source": [
    "stemmer.stem('gostou')"
   ]
  },
  {
   "cell_type": "code",
   "execution_count": null,
   "metadata": {
    "id": "Svz4o37R3CdP"
   },
   "outputs": [],
   "source": [
    "frase_processada = []\n",
    "\n",
    "for opiniao in df['tratamento_4']:\n",
    "  palavras_texto = token_pontuacao.tokenize(opiniao)\n",
    "  nova_frase = [stemmer.stem(palavra) for palavra in palavras_texto]\n",
    "  frase_processada.append(' '.join(nova_frase))\n",
    "\n",
    "df['tratamento_5'] = frase_processada"
   ]
  },
  {
   "cell_type": "code",
   "execution_count": null,
   "metadata": {
    "colab": {
     "base_uri": "https://localhost:8080/",
     "height": 397
    },
    "executionInfo": {
     "elapsed": 5,
     "status": "ok",
     "timestamp": 1728580358942,
     "user": {
      "displayName": "Valquiria Alencar",
      "userId": "06101258850801001374"
     },
     "user_tz": 180
    },
    "id": "DycnsXtZ37T8",
    "outputId": "34671408-8acc-444d-ab9e-bea8c2560ad8"
   },
   "outputs": [],
   "source": [
    "df.head()"
   ]
  },
  {
   "cell_type": "code",
   "execution_count": null,
   "metadata": {
    "colab": {
     "base_uri": "https://localhost:8080/",
     "height": 35
    },
    "executionInfo": {
     "elapsed": 4,
     "status": "ok",
     "timestamp": 1728580358942,
     "user": {
      "displayName": "Valquiria Alencar",
      "userId": "06101258850801001374"
     },
     "user_tz": 180
    },
    "id": "EyMhrIiU4Cta",
    "outputId": "8b58e28b-b43c-4fce-d044-66c578e0bd32"
   },
   "outputs": [],
   "source": [
    "df['tratamento_4'][3]"
   ]
  },
  {
   "cell_type": "code",
   "execution_count": null,
   "metadata": {
    "colab": {
     "base_uri": "https://localhost:8080/",
     "height": 35
    },
    "executionInfo": {
     "elapsed": 3,
     "status": "ok",
     "timestamp": 1728580358942,
     "user": {
      "displayName": "Valquiria Alencar",
      "userId": "06101258850801001374"
     },
     "user_tz": 180
    },
    "id": "CgchAWCN4JxS",
    "outputId": "00fbbee5-c188-42c7-c996-b12b8a750fe2"
   },
   "outputs": [],
   "source": [
    "df['tratamento_5'][3]"
   ]
  },
  {
   "cell_type": "code",
   "execution_count": null,
   "metadata": {
    "colab": {
     "base_uri": "https://localhost:8080/"
    },
    "executionInfo": {
     "elapsed": 689,
     "status": "ok",
     "timestamp": 1728580359628,
     "user": {
      "displayName": "Valquiria Alencar",
      "userId": "06101258850801001374"
     },
     "user_tz": 180
    },
    "id": "n-cCWjO74QNi",
    "outputId": "c2cad488-2a04-4cb4-a850-51018257dbfd"
   },
   "outputs": [],
   "source": [
    "classificar_texto(df, 'tratamento_5', 'sentimento')"
   ]
  },
  {
   "cell_type": "markdown",
   "metadata": {
    "id": "JWb5BDtMFLP5"
   },
   "source": [
    "##**Determinando a importância das palavras**"
   ]
  },
  {
   "cell_type": "code",
   "execution_count": null,
   "metadata": {
    "colab": {
     "base_uri": "https://localhost:8080/",
     "height": 112
    },
    "executionInfo": {
     "elapsed": 2,
     "status": "ok",
     "timestamp": 1728580359628,
     "user": {
      "displayName": "Valquiria Alencar",
      "userId": "06101258850801001374"
     },
     "user_tz": 180
    },
    "id": "NNb1BXvzAQdV",
    "outputId": "1a0f6d42-0d3c-42a4-eb0c-de145d8547a0"
   },
   "outputs": [],
   "source": [
    "from sklearn.feature_extraction.text import TfidfVectorizer\n",
    "\n",
    "\n",
    "frases = ['Comprei um ótimo produto', 'Comprei um produto péssimo']\n",
    "\n",
    "tfidf = TfidfVectorizer(lowercase=False, max_features=50)\n",
    "matriz = tfidf.fit_transform(frases)\n",
    "pd.DataFrame(matriz.todense(),\n",
    "             columns=tfidf.get_feature_names_out())"
   ]
  },
  {
   "cell_type": "code",
   "execution_count": null,
   "metadata": {
    "colab": {
     "base_uri": "https://localhost:8080/"
    },
    "executionInfo": {
     "elapsed": 533,
     "status": "ok",
     "timestamp": 1728580827440,
     "user": {
      "displayName": "Valquiria Alencar",
      "userId": "06101258850801001374"
     },
     "user_tz": 180
    },
    "id": "APz1oomxbTkw",
    "outputId": "3e78e3fd-4781-41fd-c242-e413c0c5ac75"
   },
   "outputs": [],
   "source": [
    "tfidf_bruto = tfidf.fit_transform(df[\"avaliacao\"])\n",
    "X_treino, X_teste, y_treino, y_teste = train_test_split(tfidf_bruto, df['sentimento'], random_state=4978)\n",
    "regressao_logistica.fit(X_treino, y_treino)\n",
    "acuracia_tfidf_bruto = regressao_logistica.score(X_teste, y_teste)\n",
    "print(f'Acurácia do modelo: {acuracia_tfidf_bruto *100:.2f}%')"
   ]
  },
  {
   "cell_type": "code",
   "execution_count": null,
   "metadata": {
    "colab": {
     "base_uri": "https://localhost:8080/"
    },
    "executionInfo": {
     "elapsed": 553,
     "status": "ok",
     "timestamp": 1728580829550,
     "user": {
      "displayName": "Valquiria Alencar",
      "userId": "06101258850801001374"
     },
     "user_tz": 180
    },
    "id": "8sGnsyrQcWjU",
    "outputId": "76bd72a4-4015-4365-8d96-3a3493212c1e"
   },
   "outputs": [],
   "source": [
    "tfidf_tratados = tfidf.fit_transform(df['tratamento_5'])\n",
    "X_treino, X_teste, y_treino, y_teste = train_test_split(tfidf_tratados, df['sentimento'], random_state=4978)\n",
    "regressao_logistica.fit(X_treino, y_treino)\n",
    "acuracia_tfidf_tratados = regressao_logistica.score(X_teste, y_teste)\n",
    "print(f'Acurácia do modelo: {acuracia_tfidf_tratados *100:.2f}%')"
   ]
  },
  {
   "cell_type": "markdown",
   "metadata": {
    "id": "_9ASFn5zFN6H"
   },
   "source": [
    "##**Capturando contextos**"
   ]
  },
  {
   "cell_type": "code",
   "execution_count": null,
   "metadata": {
    "colab": {
     "base_uri": "https://localhost:8080/"
    },
    "executionInfo": {
     "elapsed": 334,
     "status": "ok",
     "timestamp": 1728582706842,
     "user": {
      "displayName": "Valquiria Alencar",
      "userId": "06101258850801001374"
     },
     "user_tz": 180
    },
    "id": "LWITVN_qhij7",
    "outputId": "d1d084dd-2fb0-41ad-bb59-c875459cf809"
   },
   "outputs": [],
   "source": [
    "from nltk import ngrams\n",
    "\n",
    "frase = 'Comprei um produto ótimo'\n",
    "frase_separada = token_espaco.tokenize(frase)\n",
    "pares = ngrams(frase_separada, 2)\n",
    "list(pares)"
   ]
  },
  {
   "cell_type": "code",
   "execution_count": null,
   "metadata": {
    "colab": {
     "base_uri": "https://localhost:8080/"
    },
    "executionInfo": {
     "elapsed": 1915,
     "status": "ok",
     "timestamp": 1728583017983,
     "user": {
      "displayName": "Valquiria Alencar",
      "userId": "06101258850801001374"
     },
     "user_tz": 180
    },
    "id": "7yQR7zwbjuPT",
    "outputId": "41968059-f815-40d7-8951-12ac8609d762"
   },
   "outputs": [],
   "source": [
    "tfidf_50 = TfidfVectorizer(lowercase=False, max_features=50, ngram_range=(1,2))\n",
    "vetor_tfidf = tfidf_50.fit_transform(df['tratamento_5'])\n",
    "X_treino, X_teste, y_treino, y_teste = train_test_split(vetor_tfidf, df['sentimento'], random_state=4978)\n",
    "regressao_logistica.fit(X_treino, y_treino)\n",
    "acuracia_tfidf_ngrams = regressao_logistica.score(X_teste, y_teste)\n",
    "print(f'Acurácia do modelo com 50 features e ngrams: {acuracia_tfidf_ngrams * 100:.2f}%')"
   ]
  },
  {
   "cell_type": "markdown",
   "metadata": {
    "id": "ryxsXnp1FSXy"
   },
   "source": [
    "##**Explorando a quantidade de features na vetorização**"
   ]
  },
  {
   "cell_type": "code",
   "execution_count": null,
   "metadata": {
    "colab": {
     "base_uri": "https://localhost:8080/"
    },
    "executionInfo": {
     "elapsed": 1937,
     "status": "ok",
     "timestamp": 1728583406226,
     "user": {
      "displayName": "Valquiria Alencar",
      "userId": "06101258850801001374"
     },
     "user_tz": 180
    },
    "id": "q-RjQkurl78T",
    "outputId": "93818f64-c87a-4c0e-a05a-a790abd41b98"
   },
   "outputs": [],
   "source": [
    "tfidf_100 = TfidfVectorizer(lowercase=False, max_features=100, ngram_range=(1,2))\n",
    "vetor_tfidf = tfidf_100.fit_transform(df['tratamento_5'])\n",
    "X_treino, X_teste, y_treino, y_teste = train_test_split(vetor_tfidf, df['sentimento'], random_state=4978)\n",
    "regressao_logistica.fit(X_treino, y_treino)\n",
    "acuracia_tfidf_ngrams = regressao_logistica.score(X_teste, y_teste)\n",
    "print(f'Acurácia do modelo com 100 features e ngrams: {acuracia_tfidf_ngrams * 100:.2f}%')"
   ]
  },
  {
   "cell_type": "code",
   "execution_count": null,
   "metadata": {
    "colab": {
     "base_uri": "https://localhost:8080/"
    },
    "executionInfo": {
     "elapsed": 1137,
     "status": "ok",
     "timestamp": 1728583671017,
     "user": {
      "displayName": "Valquiria Alencar",
      "userId": "06101258850801001374"
     },
     "user_tz": 180
    },
    "id": "rrHGj9g9mYmD",
    "outputId": "10815ab3-6b6c-4b68-b2b7-18091885044f"
   },
   "outputs": [],
   "source": [
    "tfidf_1000 = TfidfVectorizer(lowercase=False, max_features=1000, ngram_range=(1,2))\n",
    "vetor_tfidf = tfidf_1000.fit_transform(df['tratamento_5'])\n",
    "X_treino, X_teste, y_treino, y_teste = train_test_split(vetor_tfidf, df['sentimento'], random_state=4978)\n",
    "regressao_logistica.fit(X_treino, y_treino)\n",
    "acuracia_tfidf_ngrams = regressao_logistica.score(X_teste, y_teste)\n",
    "print(f'Acurácia do modelo com 1000 features e ngrams: {acuracia_tfidf_ngrams * 100:.2f}%')"
   ]
  },
  {
   "cell_type": "code",
   "execution_count": null,
   "metadata": {
    "colab": {
     "base_uri": "https://localhost:8080/"
    },
    "executionInfo": {
     "elapsed": 2724,
     "status": "ok",
     "timestamp": 1728583519820,
     "user": {
      "displayName": "Valquiria Alencar",
      "userId": "06101258850801001374"
     },
     "user_tz": 180
    },
    "id": "enfVgG_PmmTS",
    "outputId": "530b1507-98cc-40c3-e10e-02a69f0f6da6"
   },
   "outputs": [],
   "source": [
    "tfidf = TfidfVectorizer(lowercase=False, ngram_range=(1,2))\n",
    "vetor_tfidf = tfidf.fit_transform(df['tratamento_5'])\n",
    "X_treino, X_teste, y_treino, y_teste = train_test_split(vetor_tfidf, df['sentimento'], random_state=4978)\n",
    "regressao_logistica.fit(X_treino, y_treino)\n",
    "acuracia_tfidf_ngrams = regressao_logistica.score(X_teste, y_teste)\n",
    "print(f'Acurácia do modelo com todas as features e ngrams: {acuracia_tfidf_ngrams * 100:.2f}%')"
   ]
  },
  {
   "cell_type": "code",
   "execution_count": null,
   "metadata": {
    "colab": {
     "base_uri": "https://localhost:8080/"
    },
    "executionInfo": {
     "elapsed": 274,
     "status": "ok",
     "timestamp": 1728583559607,
     "user": {
      "displayName": "Valquiria Alencar",
      "userId": "06101258850801001374"
     },
     "user_tz": 180
    },
    "id": "YXUNA1zam0Iq",
    "outputId": "e3942544-fa23-42a8-ea8f-8acc34e893ef"
   },
   "outputs": [],
   "source": [
    "vetor_tfidf.shape"
   ]
  },
  {
   "cell_type": "markdown",
   "metadata": {
    "id": "THf2BgMKFtc5"
   },
   "source": [
    "⚠️ Executar novamente o código do `tfidf_1000` antes de executar a célula abaixo:"
   ]
  },
  {
   "cell_type": "code",
   "execution_count": null,
   "metadata": {
    "id": "JoIpKPmpm-cp"
   },
   "outputs": [],
   "source": [
    "pesos = pd.DataFrame(\n",
    "    regressao_logistica.coef_[0].T,\n",
    "    index=tfidf_1000.get_feature_names_out()\n",
    ")"
   ]
  },
  {
   "cell_type": "code",
   "execution_count": null,
   "metadata": {
    "colab": {
     "base_uri": "https://localhost:8080/",
     "height": 1000
    },
    "executionInfo": {
     "elapsed": 274,
     "status": "ok",
     "timestamp": 1728583841285,
     "user": {
      "displayName": "Valquiria Alencar",
      "userId": "06101258850801001374"
     },
     "user_tz": 180
    },
    "id": "PPU5pIn4n7Eh",
    "outputId": "f956e23b-d0f8-45a1-d49e-a715c30f9764"
   },
   "outputs": [],
   "source": [
    "pesos.nlargest(50, 0)"
   ]
  },
  {
   "cell_type": "code",
   "execution_count": null,
   "metadata": {
    "colab": {
     "base_uri": "https://localhost:8080/",
     "height": 1000
    },
    "executionInfo": {
     "elapsed": 287,
     "status": "ok",
     "timestamp": 1728583916620,
     "user": {
      "displayName": "Valquiria Alencar",
      "userId": "06101258850801001374"
     },
     "user_tz": 180
    },
    "id": "VTZMY_-UoDNy",
    "outputId": "f470372f-4f65-4b6d-ed66-6202b9e03993"
   },
   "outputs": [],
   "source": [
    "pesos.nsmallest(50,0)"
   ]
  },
  {
   "cell_type": "markdown",
   "metadata": {
    "id": "4bz6uuGeGguS"
   },
   "source": [
    "#**Testando o modelo de classificação**"
   ]
  },
  {
   "cell_type": "markdown",
   "metadata": {
    "id": "v1IvYI5GGlye"
   },
   "source": [
    "##**Salvando e carregando o modelo**"
   ]
  },
  {
   "cell_type": "code",
   "execution_count": null,
   "metadata": {
    "colab": {
     "base_uri": "https://localhost:8080/"
    },
    "executionInfo": {
     "elapsed": 270,
     "status": "ok",
     "timestamp": 1728584684269,
     "user": {
      "displayName": "Valquiria Alencar",
      "userId": "06101258850801001374"
     },
     "user_tz": 180
    },
    "id": "UhEtZEskqd4u",
    "outputId": "67718cfe-560c-47ef-bb9b-1aef29e08581"
   },
   "outputs": [],
   "source": [
    "import joblib\n",
    "\n",
    "joblib.dump(tfidf_1000, 'tfidf_vectorizer.pkl')\n",
    "joblib.dump(regressao_logistica, 'modelo_regressao_logistica.pkl')"
   ]
  },
  {
   "cell_type": "code",
   "execution_count": null,
   "metadata": {
    "id": "zc_BHu5yrRB6"
   },
   "outputs": [],
   "source": [
    "tfidf = joblib.load('tfidf_vectorizer.pkl')\n",
    "regressao_logistica = joblib.load('modelo_regressao_logistica.pkl')"
   ]
  },
  {
   "cell_type": "markdown",
   "metadata": {
    "id": "ICGz32b6GpEi"
   },
   "source": [
    "##**Criando uma função para processar novos dados**"
   ]
  },
  {
   "cell_type": "code",
   "execution_count": null,
   "metadata": {
    "id": "Qp8l5ZkSrzei"
   },
   "outputs": [],
   "source": [
    "palavras_irrelevantes = nltk.corpus.stopwords.words('portuguese')\n",
    "token_pontuacao = tokenize.WordPunctTokenizer()\n",
    "stemmer = nltk.RSLPStemmer()\n",
    "\n",
    "\n",
    "def processar_avaliacao(avaliacao):\n",
    "  # passo 1\n",
    "  tokens = token_pontuacao.tokenize(avaliacao)\n",
    "\n",
    "  # passo 2\n",
    "  frase_processada = [palavra for palavra in tokens if palavra.lower() not in palavras_irrelevantes]\n",
    "\n",
    "  # passo 3\n",
    "  frase_processada = [palavra for palavra in frase_processada if palavra.isalpha()]\n",
    "\n",
    "  # passo 4\n",
    "  frase_processada = [unidecode.unidecode(palavra) for palavra in frase_processada]\n",
    "\n",
    "  # passo 5\n",
    "  frase_processada = [stemmer.stem(palavra) for palavra in frase_processada]\n",
    "\n",
    "  return ' '.join(frase_processada)"
   ]
  },
  {
   "cell_type": "markdown",
   "metadata": {
    "id": "4BcfwJZeGpPN"
   },
   "source": [
    "##**Classificando novas avaliações**"
   ]
  },
  {
   "cell_type": "code",
   "execution_count": null,
   "metadata": {
    "id": "E7rqXzZxv-Sx"
   },
   "outputs": [],
   "source": [
    "# Novas avaliações para prever\n",
    "novas_avaliacoes = [\"Ótimo produto, super recomendo!\",\n",
    "                 \"A entrega atrasou muito! Estou decepcionado com a compra\",\n",
    "                 \"Muito satisfeito com a compra. Além de ter atendido as expectativas, o preço foi ótimo\",\n",
    "                 \"Horrível!!! O produto chegou danificado e agora estou tentando fazer a devolução.\",\n",
    "                 '''Rastreando o pacote, achei que não fosse recebê-lo, pois, na data prevista, estava sendo entregue em outra cidade.\n",
    "                 Mas, no fim, deu tudo certo e recebi o produto.Produto de ótima qualidade, atendendo bem as minhas necessidades e por\n",
    "                 um preço super em conta.Recomendo.''']"
   ]
  },
  {
   "cell_type": "code",
   "execution_count": null,
   "metadata": {
    "id": "e4RmpBufwrWu"
   },
   "outputs": [],
   "source": [
    "novas_avaliacoes_processadas = [processar_avaliacao(avaliacao) for avaliacao in novas_avaliacoes]"
   ]
  },
  {
   "cell_type": "code",
   "execution_count": null,
   "metadata": {
    "colab": {
     "base_uri": "https://localhost:8080/"
    },
    "executionInfo": {
     "elapsed": 245,
     "status": "ok",
     "timestamp": 1728586384109,
     "user": {
      "displayName": "Valquiria Alencar",
      "userId": "06101258850801001374"
     },
     "user_tz": 180
    },
    "id": "jXkhprJuxpUJ",
    "outputId": "547434c5-f489-458d-e0b9-2bd345109301"
   },
   "outputs": [],
   "source": [
    "novas_avaliacoes_processadas"
   ]
  },
  {
   "cell_type": "code",
   "execution_count": null,
   "metadata": {
    "colab": {
     "base_uri": "https://localhost:8080/",
     "height": 258
    },
    "executionInfo": {
     "elapsed": 283,
     "status": "ok",
     "timestamp": 1728586666716,
     "user": {
      "displayName": "Valquiria Alencar",
      "userId": "06101258850801001374"
     },
     "user_tz": 180
    },
    "id": "iEkyXoKQxv5Z",
    "outputId": "fc903c87-8e49-4b56-ce2a-08d8d0614c93"
   },
   "outputs": [],
   "source": [
    "novas_avaliacoes_tfidf = tfidf.transform(novas_avaliacoes_processadas)\n",
    "\n",
    "predicoes = regressao_logistica.predict(novas_avaliacoes_tfidf)\n",
    "\n",
    "df_previsoes = pd.DataFrame({\n",
    "    'Avaliação': novas_avaliacoes,\n",
    "    'Sentimento previsto': predicoes\n",
    "})\n",
    "\n",
    "df_previsoes"
   ]
  }
 ],
 "metadata": {
  "colab": {
   "authorship_tag": "ABX9TyOo7RxrLRCamuAkCtuzFVag",
   "provenance": [
    {
     "file_id": "1MpPYUPfeZV5w7UiauvWE03ESNBk3aH3W",
     "timestamp": 1728415183122
    }
   ]
  },
  "kernelspec": {
   "display_name": "Python 3",
   "name": "python3"
  },
  "language_info": {
   "name": "python"
  }
 },
 "nbformat": 4,
 "nbformat_minor": 0
}
